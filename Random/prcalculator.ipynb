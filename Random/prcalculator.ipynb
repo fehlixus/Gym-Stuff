{
 "cells": [
  {
   "cell_type": "markdown",
   "metadata": {},
   "source": [
    "#### PR-Calcualator\n",
    "Of course this isn't a 100% accurate way of calculating a 1-rep max but it seems to be a pretty good estimation. Generally the results seem to be pretty accurate for my friends and me +- 5kg. This script uses the [Epley-formula](https://en.wikipedia.org/wiki/One-repetition_maximum) to calculate a PR. There are many other formulas which try to do the same thing. \n"
   ]
  },
  {
   "cell_type": "code",
   "execution_count": 2,
   "metadata": {},
   "outputs": [],
   "source": [
    "def calculate_one_rep_max(weight_lifted, reps_completed):\n",
    "    one_rep_max = weight_lifted * (1 + reps_completed / 30)\n",
    "    return one_rep_max\n",
    "\n",
    "def print_rep_ranges(one_rep_max):\n",
    "    for i in range(1, 11):\n",
    "        rep_max = one_rep_max / (1 + i / 30)\n",
    "        print(f\"Rep {i} max: {rep_max:.2f} kg\")"
   ]
  },
  {
   "cell_type": "code",
   "execution_count": 14,
   "metadata": {},
   "outputs": [
    {
     "name": "stdout",
     "output_type": "stream",
     "text": [
      "Rep 1 max: 109.68 kg\n",
      "Rep 2 max: 106.25 kg\n",
      "Rep 3 max: 103.03 kg\n",
      "Rep 4 max: 100.00 kg\n",
      "Rep 5 max: 97.14 kg\n",
      "Rep 6 max: 94.44 kg\n",
      "Rep 7 max: 91.89 kg\n",
      "Rep 8 max: 89.47 kg\n",
      "Rep 9 max: 87.18 kg\n",
      "Rep 10 max: 85.00 kg\n"
     ]
    }
   ],
   "source": [
    "weight_lifted = 100  # kg\n",
    "reps_completed = 4\n",
    "\n",
    "one_rep_max = calculate_one_rep_max(weight_lifted, reps_completed)\n",
    "print_rep_ranges(one_rep_max)"
   ]
  }
 ],
 "metadata": {
  "kernelspec": {
   "display_name": "Python 3",
   "language": "python",
   "name": "python3"
  },
  "language_info": {
   "codemirror_mode": {
    "name": "ipython",
    "version": 3
   },
   "file_extension": ".py",
   "mimetype": "text/x-python",
   "name": "python",
   "nbconvert_exporter": "python",
   "pygments_lexer": "ipython3",
   "version": "3.11.4"
  }
 },
 "nbformat": 4,
 "nbformat_minor": 2
}
